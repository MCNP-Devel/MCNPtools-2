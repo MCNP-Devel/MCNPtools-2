{
 "cells": [
  {
   "cell_type": "markdown",
   "metadata": {},
   "source": [
    "# Neutron spectra\n",
    "\n",
    "We simulated a 1 x 1 x 11 cm<sup>3</sup> parallelepiped, with a 1MeV neutron cource directed along 0 0 1 positioned at 0 0 -1. This geometry as cut by 10 planes from 0 to 9 cm, on each plane the neutron spectra was accumulated through the tally:\n",
    "\n",
    "```\n",
    "F2:n 10 11 12 13 14 15 16 17 18 19\n",
    "e2 1e-10 99log 10\n",
    "```\n",
    "\n",
    "This tally was extracted from **mcnp.inpm** by using **TallyRead.py** script. This generated the file [mOut/f2](mOut/f2) which contains the data that we are going to plot."
   ]
  }
 ],
 "metadata": {
  "kernelspec": {
   "display_name": "Python 3",
   "language": "python",
   "name": "python3"
  },
  "language_info": {
   "codemirror_mode": {
    "name": "ipython",
    "version": 3
   },
   "file_extension": ".py",
   "mimetype": "text/x-python",
   "name": "python",
   "nbconvert_exporter": "python",
   "pygments_lexer": "ipython3",
   "version": "3.7.1"
  }
 },
 "nbformat": 4,
 "nbformat_minor": 2
}
